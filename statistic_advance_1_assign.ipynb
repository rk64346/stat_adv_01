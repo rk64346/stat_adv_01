{
 "cells": [
  {
   "cell_type": "markdown",
   "id": "bec6189d-494a-447b-8be1-d0f0f6b08457",
   "metadata": {},
   "source": [
    "Q1. What is the Probability density function?"
   ]
  },
  {
   "cell_type": "markdown",
   "id": "a66e6594-2d31-44b9-a9c1-a30cacccbc22",
   "metadata": {},
   "source": [
    "the distribution describees an experiments probabaility distribution,where there is an arbitary outcomes that lies between certain bounds. the bounds are defined by the parameters, a&b, which are the minimum & maximum values."
   ]
  },
  {
   "cell_type": "markdown",
   "id": "372ecfc3-caad-4e2e-bc7f-cb0bfed9dc93",
   "metadata": {},
   "source": [
    "Q2. What are the types of Probability distribution?"
   ]
  },
  {
   "cell_type": "markdown",
   "id": "23fd2a05-23a7-4e1c-b2ff-36b7872c968f",
   "metadata": {},
   "source": [
    "6 types of probability distribution:\n",
    "    1: normal/gaussian distribution(pdf)\n",
    "    2: bernoulli distribution(pmf)\n",
    "    3: uniform distribution(pmf)\n",
    "    4:poision distribution(pmf)\n",
    "    5:log normal distribution(pdf)\n",
    "    6:binomial distribution(pmf)"
   ]
  },
  {
   "cell_type": "markdown",
   "id": "43c44229-d451-47a4-be6c-69c565c96329",
   "metadata": {},
   "source": [
    "Q3. Write a Python function to calculate the probability density function of a normal distribution with\n",
    "given mean and standard deviation at a given point."
   ]
  },
  {
   "cell_type": "code",
   "execution_count": 4,
   "id": "6e94bcde-5239-4f6a-92b6-3e4f63f76f56",
   "metadata": {},
   "outputs": [],
   "source": [
    "import math\n",
    "\n",
    "def normal_pdf(x, mean, std_dev):\n",
    "    \n",
    "    coefficient = 1 / (std_dev * math.sqrt(2 * math.pi))\n",
    "    exponent = -((x - mean)**2) / (2 * (std_dev**2))\n",
    "    pdf_value = coefficient * math.exp(exponent)\n",
    "    return pdf_value"
   ]
  },
  {
   "cell_type": "code",
   "execution_count": 5,
   "id": "98d0499f-bbf9-4bb4-9fdb-aff5afb620c7",
   "metadata": {},
   "outputs": [
    {
     "name": "stdout",
     "output_type": "stream",
     "text": [
      "The PDF at x = 1 is 0.24197072451914337\n"
     ]
    }
   ],
   "source": [
    "mean = 0\n",
    "std_dev = 1\n",
    "x = 1\n",
    "\n",
    "pdf_at_x = normal_pdf(x, mean, std_dev)\n",
    "print(f\"The PDF at x = {x} is {pdf_at_x}\")\n"
   ]
  },
  {
   "cell_type": "markdown",
   "id": "e9c601fc-21da-47c7-ae11-720a7dc1e4bc",
   "metadata": {},
   "source": [
    "Q4. What are the properties of Binomial distribution? Give two examples of events where binomial\n",
    "distribution can be applied."
   ]
  },
  {
   "cell_type": "markdown",
   "id": "ecf30935-0dbb-4666-a1dd-643e869b9798",
   "metadata": {},
   "source": [
    "the bionomial distribution with parameter (n) & (p) is the discreate probability distribution of the no. of successes of (n) independent exp. , each success in a sequenece of (n), each asking yes - no question and its own boolean - value outcomes: success(with probability p) or failure q = (1-p).\n",
    "ex: discreate random variable (tossing a coin)"
   ]
  },
  {
   "cell_type": "markdown",
   "id": "57927c5c-7281-46a2-8d57-4b11d3888bdd",
   "metadata": {},
   "source": [
    "Q5. Generate a random sample of size 1000 from a binomial distribution with probability of success 0.4\n",
    "and plot a histogram of the results using matplotlib."
   ]
  },
  {
   "cell_type": "code",
   "execution_count": 2,
   "id": "41ac84e5-d9a8-4e82-9dd3-25338a1d2cd2",
   "metadata": {},
   "outputs": [],
   "source": [
    "import numpy as np\n",
    "import matplotlib.pyplot as plt"
   ]
  },
  {
   "cell_type": "code",
   "execution_count": 5,
   "id": "cf5d5242-2dea-4a6d-959e-16c6d9be0db9",
   "metadata": {},
   "outputs": [
    {
     "data": {
      "image/png": "[encoded data removed]",
      "text/plain": [
       "<Figure size 640x480 with 1 Axes>"
      ]
     },
     "metadata": {},
     "output_type": "display_data"
    }
   ],
   "source": [
    "np.random.seed(0) # seed for reproducibility\n",
    "\n",
    "#pararmeter for binomial distribution\n",
    "n = 1\n",
    "p = 0.4\n",
    "random_example = np.random.binomial(n , p , size=1000)\n",
    "plt.hist(random_example , bins=np.arange(-0.5,2.5,1),rwidth=0.8,density=True,color='red')\n",
    "plt.title('bionomial distribution')\n",
    "plt.xlabel('no. of success')\n",
    "plt.ylabel('PROBABILITY')\n",
    "plt.show()"
   ]
  },
  {
   "cell_type": "markdown",
   "id": "f0bf7f5f-e97f-44b9-8809-07782f5e12ba",
   "metadata": {},
   "source": [
    "Q6. Write a Python function to calculate the cumulative distribution function of a Poisson distribution\n",
    "with given mean at a given point."
   ]
  },
  {
   "cell_type": "code",
   "execution_count": 9,
   "id": "f41de598-09cf-4473-ba48-c77691a9d56a",
   "metadata": {},
   "outputs": [],
   "source": [
    "import numpy as np\n",
    "import matplotlib.pyplot as plt\n",
    "from scipy.stats import poisson"
   ]
  },
  {
   "cell_type": "code",
   "execution_count": 12,
   "id": "21842c32-7c39-48c3-afb1-5dd682bb7bda",
   "metadata": {},
   "outputs": [],
   "source": [
    "def poission_cdf(k,mean):\n",
    "    return poisson.cdf(k,mu=mean)\n",
    "\n"
   ]
  },
  {
   "cell_type": "code",
   "execution_count": 13,
   "id": "dede7d0d-3b51-4b9e-88d3-691fbf1aaf16",
   "metadata": {},
   "outputs": [
    {
     "name": "stdout",
     "output_type": "stream",
     "text": [
      "The CDF at k = 2 is 0.23810330555354436\n"
     ]
    }
   ],
   "source": [
    "k = 2\n",
    "mean = 4\n",
    "cdf_at_k = poisson.cdf(k,mean)\n",
    "print(f\"The CDF at k = {k} is {cdf_at_k}\")"
   ]
  },
  {
   "cell_type": "markdown",
   "id": "12e1f339-5313-4d71-b8d6-906475c125be",
   "metadata": {},
   "source": [
    "Q7. How Binomial distribution different from Poisson distribution?"
   ]
  },
  {
   "cell_type": "markdown",
   "id": "dd7bd580-5e6c-48ea-a131-2780c5b64610",
   "metadata": {},
   "source": [
    "in binomial distribution the every outcome is binary and these experiment is performed for n-times\n",
    "in poission distribution describes the no. of event occuring in a fix time interval"
   ]
  },
  {
   "cell_type": "markdown",
   "id": "80be2b45-9b10-4a32-97fb-c3a4b41a6195",
   "metadata": {},
   "source": [
    "Q8. Generate a random sample of size 1000 from a Poisson distribution with mean 5 and calculate the\n",
    "sample mean and variance."
   ]
  },
  {
   "cell_type": "code",
   "execution_count": 15,
   "id": "b59d5bee-e86b-4f7a-b7c5-8c382e057f8d",
   "metadata": {},
   "outputs": [],
   "source": [
    "import numpy as np\n",
    "import matplotlib.pyplot as plt\n",
    "\n",
    "from scipy.stats import poisson"
   ]
  },
  {
   "cell_type": "code",
   "execution_count": 18,
   "id": "7217f5b5-419d-4e90-bd73-6b0637eadf92",
   "metadata": {},
   "outputs": [],
   "source": [
    "np.random.seed(0)\n",
    "mean=5\n",
    "\n",
    "random_sample = np.random.poisson(mean,size=1000)"
   ]
  },
  {
   "cell_type": "code",
   "execution_count": 21,
   "id": "fadccf68-d695-4f92-99d1-d6733c3c0c52",
   "metadata": {},
   "outputs": [
    {
     "data": {
      "text/plain": [
       "4.814191"
      ]
     },
     "execution_count": 21,
     "metadata": {},
     "output_type": "execute_result"
    }
   ],
   "source": [
    "random_sample.var()"
   ]
  },
  {
   "cell_type": "code",
   "execution_count": 22,
   "id": "d3f5ad05-e733-40f6-b57d-d948407dedd6",
   "metadata": {},
   "outputs": [
    {
     "data": {
      "text/plain": [
       "array([ 9,  5,  6,  5,  5,  8,  4,  5,  4,  3,  3,  7,  3,  3,  4,  5,  2,\n",
       "        1,  7,  7, 10,  5,  8,  8,  6,  4,  4,  3,  1,  5,  6,  5,  5,  4,\n",
       "        1,  7,  2,  7,  6,  2,  6,  5,  7,  5,  4,  5, 10,  6,  4,  7,  3,\n",
       "        2,  2,  6,  2,  5,  3,  6,  2,  4,  4,  4,  8,  7, 11,  3,  4,  1,\n",
       "        4,  5,  1,  2,  2,  5,  5,  5,  7,  8,  4,  6,  4, 10,  3,  8,  5,\n",
       "        7,  3,  8,  2,  1,  4,  4,  4,  4,  6,  4, 12,  1,  6,  3,  3,  6,\n",
       "        6,  4,  6,  4, 10,  2,  4,  8,  5,  3,  5,  6,  4,  5,  3,  6,  5,\n",
       "        4,  2,  2,  5,  7,  9,  5,  3,  4,  8,  0,  5,  9,  6,  4,  3,  6,\n",
       "        3,  9,  4,  5,  2,  6,  6,  3,  9,  5,  7,  6,  7,  8,  8,  3,  4,\n",
       "        2,  5,  9,  3,  4,  3,  3,  7,  4,  5,  4,  7,  9,  3,  4,  5,  5,\n",
       "        4,  2,  6,  7,  5,  3,  3,  6,  5,  4,  1,  1,  3,  4,  6,  7,  4,\n",
       "        3,  7,  4,  4, 10,  1,  7,  4,  3,  2,  7,  5,  2,  8,  6,  8,  5,\n",
       "        9,  4,  4,  8,  3,  2,  4,  4,  9,  5, 10, 10,  3,  2,  4,  6,  8,\n",
       "        2,  8,  5,  8,  4,  7,  4,  6, 10,  3,  3,  6,  6,  7,  3,  5,  2,\n",
       "        3,  2,  7,  8,  4, 11,  9,  3,  5,  4,  9,  3,  1,  6,  5, 10,  7,\n",
       "        8,  4,  9,  7,  3,  5,  1,  3,  8,  5,  5,  7,  9,  2, 11,  0,  4,\n",
       "        8,  3,  6,  7,  5,  5,  4,  5,  4,  8,  4,  3,  4,  5,  4,  4,  5,\n",
       "        7,  5,  5,  4,  9,  3,  6,  5,  7,  4,  2,  9, 10,  6,  6,  6,  3,\n",
       "        5,  4,  8,  3,  4,  3,  7,  4, 10,  4,  4,  2,  6,  3,  2,  4,  3,\n",
       "        1,  9,  4,  3,  5,  0,  4,  7,  4,  9,  4,  4,  1,  5,  5,  5,  8,\n",
       "        7,  5,  4,  6,  6,  6,  9,  5,  8,  3,  3,  6,  3,  5,  5,  4,  9,\n",
       "        1,  2,  6,  6,  2,  6,  5, 10,  3,  8,  5,  4,  4,  7,  3,  3,  9,\n",
       "        7,  6,  5,  9,  6,  8,  6,  7,  5,  7,  5,  4,  6,  1,  3,  7,  5,\n",
       "        3,  8,  3,  8,  4,  5,  3,  4,  2,  3,  5,  1,  6,  4,  8,  7,  4,\n",
       "        4,  6,  3,  2,  9,  7,  6,  5,  7,  6,  2,  9,  7, 10,  5,  3,  5,\n",
       "        6,  7,  3,  5,  8,  6,  3, 10,  6,  6,  6,  2,  6,  6, 12,  6,  4,\n",
       "        4,  6,  6,  4,  6,  5,  5,  5,  4,  6,  3,  4,  4,  4,  3,  5,  4,\n",
       "        6,  5,  6,  6,  5,  8,  5,  6,  7,  7,  3,  7,  3,  4,  7,  9,  5,\n",
       "        5,  2,  3,  4,  4,  4,  9,  4,  4,  3,  6,  2,  5,  4,  3,  4,  4,\n",
       "        8,  5,  4,  3,  9,  5,  3,  4,  6,  7,  6,  6,  5,  6,  2, 11,  3,\n",
       "        7,  5,  5,  5,  4,  6,  5,  7,  6,  2,  8,  4,  3,  5,  1, 10,  3,\n",
       "        5,  4,  3,  5,  4,  3,  5,  7,  1,  7,  6,  3,  9,  2,  7,  7,  5,\n",
       "        7,  4,  7,  7,  7,  7,  2,  4,  7,  5,  6,  7,  6,  8,  4,  4,  2,\n",
       "        7,  5,  7,  5,  4,  3,  2,  5,  8,  6,  2,  7,  4,  6,  4,  6,  6,\n",
       "        4,  4,  3,  4,  5,  5,  6,  6,  7,  4,  3,  4,  2,  3,  5, 10,  3,\n",
       "        3,  3,  3,  2,  4,  5,  7,  5,  6,  4,  6,  5,  2,  4,  5,  6, 10,\n",
       "        4,  3,  3,  4,  2,  2,  3,  2,  3,  9, 10,  6,  5,  5,  6,  5,  4,\n",
       "        2,  7,  3,  5,  6,  6,  4,  4,  4,  0,  6,  6,  5,  9,  2,  5,  4,\n",
       "        2,  5,  5,  5,  2,  4,  6,  5,  3,  1,  7,  4,  4,  1,  5,  5,  3,\n",
       "        2,  3,  3,  6,  3,  8,  8,  6,  2,  3,  2,  1,  4,  5,  8,  7,  5,\n",
       "        3,  2,  5,  3,  4,  3,  5,  7,  5,  4,  7,  5,  9,  5,  5,  5,  6,\n",
       "        7,  6,  5,  5,  8,  5,  9,  5,  6,  5,  3, 13,  4,  4,  5,  3,  6,\n",
       "        7,  4,  3,  8,  3,  6,  4,  6,  7,  5,  6,  5,  2,  5,  4,  3,  6,\n",
       "        3,  3,  2,  2,  3,  3,  2,  3,  4,  3,  3,  6,  7,  8,  2,  7,  9,\n",
       "        8,  7,  7,  1,  4,  2,  6,  6,  3,  3,  9,  4,  6,  4,  6,  4,  6,\n",
       "        9,  1,  6,  5,  3,  3,  9,  6,  5,  5,  4,  2,  4,  6,  5,  3,  6,\n",
       "        2,  4,  4,  4,  5,  6,  3,  8,  2,  8,  2,  2,  7,  5,  3,  3,  2,\n",
       "        5,  1,  1,  2,  5,  7,  7,  6,  4,  3,  2,  6,  4,  5,  7,  4,  7,\n",
       "        6,  8,  9,  5,  6,  4,  7,  3,  4,  7,  4,  3,  4,  5,  4,  6,  1,\n",
       "        1,  6,  9,  3,  3,  4,  4,  3,  6,  7,  3,  3,  7,  3,  4,  2, 10,\n",
       "        5,  4,  6,  8,  4,  9,  1,  8,  3,  2,  3,  4,  5,  5,  3,  2,  4,\n",
       "        3,  4,  3,  5,  4,  6,  3,  5,  3,  4,  5,  6,  5,  9,  7,  6,  2,\n",
       "        5,  9,  8,  9,  4,  9,  6,  4,  7,  7,  7,  3,  6,  3,  4,  4,  4,\n",
       "        9,  4,  0,  3,  5,  4,  6,  3,  7,  5,  6,  4,  3,  8,  6,  4,  6,\n",
       "        3,  5,  7,  4,  8,  6,  3,  4,  6,  8, 10,  5, 10,  3,  6,  4,  6,\n",
       "        2,  5,  6,  6,  9,  5,  4,  7,  3,  2,  8,  3, 10,  5,  5,  4,  6,\n",
       "        3,  5,  4,  2,  5,  0,  2,  7,  1,  4,  4,  5,  4,  8,  7,  6,  1,\n",
       "        2,  8,  3,  6,  7,  6,  6,  2,  6,  4,  3,  2,  5,  0,  4,  5,  4,\n",
       "        8,  6,  3,  4,  4,  2,  2,  7,  5,  3,  7,  7,  7,  3])"
      ]
     },
     "execution_count": 22,
     "metadata": {},
     "output_type": "execute_result"
    }
   ],
   "source": [
    "random_sample"
   ]
  },
  {
   "cell_type": "markdown",
   "id": "353d6307-dbbb-491a-98ac-c82fe99b1425",
   "metadata": {},
   "source": [
    "Q9. How mean and variance are related in Binomial distribution and Poisson distribution?"
   ]
  },
  {
   "cell_type": "markdown",
   "id": "f883f493-cc4e-4b3f-acc9-1f647d61a9fc",
   "metadata": {},
   "source": [
    "for both the Binomial and Poisson distributions, the variance is directly related to the mean. This means that in these distributions, the spread or variability of the data is determined by the mean.\n",
    "\n",
    "\n",
    "\n",
    "\n",
    "\n"
   ]
  },
  {
   "cell_type": "markdown",
   "id": "4893fbe2-7061-49a1-927e-936c8f7d6df7",
   "metadata": {},
   "source": [
    "Q10. In normal distribution with respect to mean position, where does the least frequent data appear?"
   ]
  },
  {
   "cell_type": "markdown",
   "id": "67f68661-32cc-4459-bc71-2b90e697deca",
   "metadata": {},
   "source": [
    "in a normal distribution, the least frequent data points are the ones that are the farthest away from the mean."
   ]
  },
  {
   "cell_type": "code",
   "execution_count": null,
   "id": "b6dc1b32-2710-4411-9343-3ab580740cf1",
   "metadata": {},
   "outputs": [],
   "source": []
  }
 ],
 "metadata": {
  "kernelspec": {
   "display_name": "Python 3 (ipykernel)",
   "language": "python",
   "name": "python3"
  },
  "language_info": {
   "codemirror_mode": {
    "name": "ipython",
    "version": 3
   },
   "file_extension": ".py",
   "mimetype": "text/x-python",
   "name": "python",
   "nbconvert_exporter": "python",
   "pygments_lexer": "ipython3",
   "version": "3.10.8"
  }
 },
 "nbformat": 4,
 "nbformat_minor": 5
}
